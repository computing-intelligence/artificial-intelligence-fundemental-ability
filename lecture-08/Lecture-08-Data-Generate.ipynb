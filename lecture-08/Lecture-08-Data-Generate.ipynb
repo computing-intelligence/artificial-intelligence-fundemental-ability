{
 "cells": [
  {
   "cell_type": "code",
   "execution_count": 2,
   "metadata": {},
   "outputs": [],
   "source": [
    "import numpy as np"
   ]
  },
  {
   "cell_type": "code",
   "execution_count": 3,
   "metadata": {},
   "outputs": [],
   "source": [
    "from functools import lru_cache\n",
    "\n",
    "@lru_cache(maxsize=2**10)\n",
    "def f(n):\n",
    "    if n <= 2: return n * 2\n",
    "    \n",
    "    return np.log(abs(f(n-1)*2 - f(n-2) - f(n-3))) + 2\n",
    "\n",
    "timeserise = [f(i) for i in range(200000)]\n",
    "\n",
    "def sine_2(X, signal_freq=60.):\n",
    "    return ((np.sin(2 * np.pi * (X) / signal_freq) + np.sin(4 * np.pi * (X) / signal_freq)) / 2.0 + 2)\n",
    "\n",
    "def noisy(Y, noise_range=(-0.05, 0.05)):\n",
    "    noise = np.random.uniform(noise_range[0], noise_range[1], size=Y.shape)\n",
    "    return Y + noise"
   ]
  }
 ],
 "metadata": {
  "kernelspec": {
   "display_name": "Python 3",
   "language": "python",
   "name": "python3"
  },
  "language_info": {
   "codemirror_mode": {
    "name": "ipython",
    "version": 3
   },
   "file_extension": ".py",
   "mimetype": "text/x-python",
   "name": "python",
   "nbconvert_exporter": "python",
   "pygments_lexer": "ipython3",
   "version": "3.7.3"
  }
 },
 "nbformat": 4,
 "nbformat_minor": 2
}
