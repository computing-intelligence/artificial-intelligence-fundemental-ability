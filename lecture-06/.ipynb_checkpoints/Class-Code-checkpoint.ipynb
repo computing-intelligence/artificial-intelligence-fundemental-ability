{
 "cells": [
  {
   "cell_type": "markdown",
   "metadata": {},
   "source": [
    "## Mathmatical Methods For AI"
   ]
  },
  {
   "cell_type": "code",
   "execution_count": 1,
   "metadata": {},
   "outputs": [],
   "source": [
    "file_path = '/Users/gaominquan/Workspace/AI-Foundation-Course/2020-python-programming-elementary/dataset/article_9k.txt'"
   ]
  },
  {
   "cell_type": "markdown",
   "metadata": {},
   "source": [
    "## 上一节课的： 计算机可以通过数学模拟，来解决复杂问题\n",
    "\n",
    "## 这一节课： 计算机中还有哪些重要的数学方法\n",
    "\n",
    "+ 概率模型\n",
    "+ 凸函数\n",
    "+ SVM （支撑向量机）"
   ]
  },
  {
   "cell_type": "markdown",
   "metadata": {},
   "source": [
    "## Problems: \n",
    "\n",
    "~~~~~~~ （这是一段音频）：语音识别\n",
    "\n",
    "+ 今天的天气很好\n",
    "+ 今天的天气很耗\n",
    "+ 锦田的天气很好"
   ]
  },
  {
   "cell_type": "markdown",
   "metadata": {},
   "source": [
    "## 计算语言学： 计算机来实现我们的语法判断\n",
    "\n",
    "### 动名词，主谓宾，定状补\n",
    "\n",
    "### 名词： 主语，不能做谓语"
   ]
  },
  {
   "cell_type": "markdown",
   "metadata": {},
   "source": []
  },
  {
   "cell_type": "markdown",
   "metadata": {},
   "source": [
    "## Probability of a sentence => Language Model(语言模型）"
   ]
  },
  {
   "cell_type": "markdown",
   "metadata": {},
   "source": [
    "$$ Pro(sentence) = Pr(w_1 w_2 w_3 .. w_n) = \\prod_{1}^{n-1} Pr(w_i | w_{i+1}) * Pr(w_n) = \\prod_{i=1}^{n-1} \\frac{Pr(w_i w_{i+1})}{Pr(w_{i+1})} Pr(w_n)$$"
   ]
  },
  {
   "cell_type": "code",
   "execution_count": 2,
   "metadata": {},
   "outputs": [],
   "source": [
    "whole_text = open(file_path).read()"
   ]
  },
  {
   "cell_type": "code",
   "execution_count": 4,
   "metadata": {},
   "outputs": [],
   "source": [
    "import jieba"
   ]
  },
  {
   "cell_type": "code",
   "execution_count": 7,
   "metadata": {},
   "outputs": [
    {
     "name": "stderr",
     "output_type": "stream",
     "text": [
      "Building prefix dict from the default dictionary ...\n",
      "Dumping model to file cache /var/folders/t4/cqwq7kjd23zb1pddhb8858rh0000gn/T/jieba.cache\n",
      "Loading model cost 1.072 seconds.\n",
      "Prefix dict has been built succesfully.\n"
     ]
    }
   ],
   "source": [
    "all_words = list(jieba.cut(whole_text))"
   ]
  },
  {
   "cell_type": "code",
   "execution_count": 8,
   "metadata": {},
   "outputs": [],
   "source": [
    "from collectionstionsections import Counter"
   ]
  },
  {
   "cell_type": "code",
   "execution_count": 9,
   "metadata": {},
   "outputs": [],
   "source": [
    "word_counter = Counter(all_words)"
   ]
  },
  {
   "cell_type": "code",
   "execution_count": 50,
   "metadata": {},
   "outputs": [
    {
     "data": {
      "text/plain": [
       "10"
      ]
     },
     "execution_count": 50,
     "metadata": {},
     "output_type": "execute_result"
    }
   ],
   "source": [
    "word_counter['老实']"
   ]
  },
  {
   "cell_type": "markdown",
   "metadata": {},
   "source": [
    "## Out of vocabulary OOV"
   ]
  },
  {
   "cell_type": "code",
   "execution_count": 69,
   "metadata": {},
   "outputs": [],
   "source": [
    "def Pro_w(w):\n",
    "    global all_words\n",
    "#    _pro_w = word_counter[w] if w in word_counter else word_counter.most_common()[-1][1]\n",
    "    _pro_w = oov_pro(w, word_counter)\n",
    "    return _pro_w / len(all_words)"
   ]
  },
  {
   "cell_type": "markdown",
   "metadata": {},
   "source": [
    "## 2-gram "
   ]
  },
  {
   "cell_type": "code",
   "execution_count": 12,
   "metadata": {},
   "outputs": [],
   "source": [
    "all_2_grams = [all_words[i] + all_words[i+1] for i in range(len(all_words)-1)]"
   ]
  },
  {
   "cell_type": "code",
   "execution_count": 13,
   "metadata": {},
   "outputs": [
    {
     "data": {
      "text/plain": [
       "['此外自', '自本周', '本周6', '6月', '月12', '12日起', '日起除', '除小米', '小米手机', '手机6']"
      ]
     },
     "execution_count": 13,
     "metadata": {},
     "output_type": "execute_result"
    }
   ],
   "source": [
    "all_2_grams[:10]"
   ]
  },
  {
   "cell_type": "code",
   "execution_count": 82,
   "metadata": {},
   "outputs": [],
   "source": [
    "def oov_pro(w, counter):\n",
    "    return counter[w] if w in counter else 1"
   ]
  },
  {
   "cell_type": "code",
   "execution_count": 83,
   "metadata": {},
   "outputs": [],
   "source": [
    "counter_2_gram = Counter(all_2_grams)\n",
    "\n",
    "def Pro_2_w(w1, w2):\n",
    "    \n",
    "    _pro_w = oov_pro(w1+w2, counter=counter_2_gram)\n",
    "    \n",
    "    return _pro_w / len(all_2_grams)"
   ]
  },
  {
   "cell_type": "code",
   "execution_count": 15,
   "metadata": {},
   "outputs": [
    {
     "data": {
      "text/plain": [
       "3.473670176038453e-05"
      ]
     },
     "execution_count": 15,
     "metadata": {},
     "output_type": "execute_result"
    }
   ],
   "source": [
    "Pro_2_w('我们', '将')"
   ]
  },
  {
   "cell_type": "code",
   "execution_count": 71,
   "metadata": {},
   "outputs": [],
   "source": [
    "test_sentence = '今天的天气非常好'\n",
    "test_sentence_2 = '今天的天气非常耗'"
   ]
  },
  {
   "cell_type": "code",
   "execution_count": 102,
   "metadata": {},
   "outputs": [],
   "source": [
    "def prob_of_sentence(sentence):\n",
    "    words = list(jieba.cut(sentence))\n",
    "    \n",
    "    prob = 1\n",
    "    \n",
    "    for i in range(len(words) - 1):\n",
    "        _p =  (Pro_2_w(words[i], words[i+1]) / Pro_w(words[i+1]))\n",
    "        print('combine prob of {} is {}:'.format(words[i]+words[i+1], _p))\n",
    "        prob *= _p\n",
    "        \n",
    "    prob *= Pro_w(words[-1])\n",
    "    \n",
    "    return prob"
   ]
  },
  {
   "cell_type": "code",
   "execution_count": 103,
   "metadata": {},
   "outputs": [
    {
     "name": "stdout",
     "output_type": "stream",
     "text": [
      "combine prob of 今天的 is 0.0006110419891071201:\n",
      "combine prob of 的天气 is 0.0468303852965528:\n",
      "combine prob of 天气非常 is 0.00020173493176504272:\n",
      "combine prob of 非常好 is 0.023913603825820636:\n"
     ]
    },
    {
     "data": {
      "text/plain": [
       "9.141579754038628e-14"
      ]
     },
     "execution_count": 103,
     "metadata": {},
     "output_type": "execute_result"
    }
   ],
   "source": [
    "prob_of_sentence(test_sentence)"
   ]
  },
  {
   "cell_type": "code",
   "execution_count": 30,
   "metadata": {},
   "outputs": [
    {
     "data": {
      "text/plain": [
       "0.0"
      ]
     },
     "execution_count": 30,
     "metadata": {},
     "output_type": "execute_result"
    }
   ],
   "source": [
    "prob_of_sentence(test_sentence_2)"
   ]
  },
  {
   "cell_type": "code",
   "execution_count": 72,
   "metadata": {},
   "outputs": [],
   "source": [
    "test_sen_2 = '这是一件很重要的事情'"
   ]
  },
  {
   "cell_type": "code",
   "execution_count": 73,
   "metadata": {},
   "outputs": [
    {
     "data": {
      "text/plain": [
       "1.36537528688243e-13"
      ]
     },
     "execution_count": 73,
     "metadata": {},
     "output_type": "execute_result"
    }
   ],
   "source": [
    "prob_of_sentence(test_sen_2)"
   ]
  },
  {
   "cell_type": "code",
   "execution_count": 74,
   "metadata": {},
   "outputs": [],
   "source": [
    "test_sen_3 = '这是一件很中药的事情'"
   ]
  },
  {
   "cell_type": "code",
   "execution_count": 75,
   "metadata": {},
   "outputs": [
    {
     "data": {
      "text/plain": [
       "1.0899403097906663e-16"
      ]
     },
     "execution_count": 75,
     "metadata": {},
     "output_type": "execute_result"
    }
   ],
   "source": [
    "prob_of_sentence(test_sen_3)"
   ]
  },
  {
   "cell_type": "code",
   "execution_count": 84,
   "metadata": {},
   "outputs": [
    {
     "data": {
      "text/plain": [
       "2.8860671096723153e-08"
      ]
     },
     "execution_count": 84,
     "metadata": {},
     "output_type": "execute_result"
    }
   ],
   "source": [
    "prob_of_sentence('老师很好')"
   ]
  },
  {
   "cell_type": "code",
   "execution_count": 85,
   "metadata": {},
   "outputs": [
    {
     "data": {
      "text/plain": [
       "5.77213421934463e-09"
      ]
     },
     "execution_count": 85,
     "metadata": {},
     "output_type": "execute_result"
    }
   ],
   "source": [
    "prob_of_sentence('老实很好')"
   ]
  },
  {
   "cell_type": "markdown",
   "metadata": {},
   "source": [
    "## 来判断那句话更正确"
   ]
  },
  {
   "cell_type": "code",
   "execution_count": 87,
   "metadata": {},
   "outputs": [],
   "source": [
    "def compare(s1, s2):\n",
    "    right = s1 if prob_of_sentence(s1) > prob_of_sentence(s2) else s2\n",
    "    print('{} 与 {} 相比，更加正确的句子是： {}'.format(s1, s2, right))"
   ]
  },
  {
   "cell_type": "code",
   "execution_count": 88,
   "metadata": {},
   "outputs": [
    {
     "name": "stdout",
     "output_type": "stream",
     "text": [
      "老师很舒服 与 老师很虚浮 相比，更加正确的句子是： 老师很舒服\n"
     ]
    }
   ],
   "source": [
    "compare('老师很舒服', '老师很虚浮')"
   ]
  },
  {
   "cell_type": "code",
   "execution_count": 112,
   "metadata": {},
   "outputs": [
    {
     "name": "stdout",
     "output_type": "stream",
     "text": [
      "combine prob of 我们在 is 0.0020409945125950306:\n",
      "combine prob of 在听 is 0.025735295578364764:\n",
      "combine prob of 听老师上课 is 0.5000000283796583:\n",
      "combine prob of 我们在 is 0.0020409945125950306:\n",
      "combine prob of 在挺 is 0.004385965161225073:\n",
      "combine prob of 挺老师 is 0.00043516103427298375:\n",
      "combine prob of 老师尚可 is 0.02631579096735044:\n",
      "我们在听老师上课 与 我们在挺老师尚可 相比，更加正确的句子是： 我们在听老师上课\n",
      "combine prob of 我们药换 is 1.0000000567593166:\n",
      "combine prob of 药换一个 is 4.559547951665679e-05:\n",
      "combine prob of 一个语料库 is 1.0000000567593166:\n",
      "combine prob of 我们要换 is 1.0000000567593166:\n",
      "combine prob of 要换一个 is 4.559547951665679e-05:\n",
      "combine prob of 一个语料库 is 1.0000000567593166:\n",
      "我们药换一个语料库 与 我们要换一个语料库 相比，更加正确的句子是： 我们要换一个语料库\n"
     ]
    }
   ],
   "source": [
    "compare('我们在听老师上课', '我们在挺老师尚可')\n",
    "compare('我们药换一个语料库', '我们要换一个语料库')"
   ]
  },
  {
   "cell_type": "code",
   "execution_count": 106,
   "metadata": {},
   "outputs": [
    {
     "data": {
      "text/plain": [
       "8"
      ]
     },
     "execution_count": 106,
     "metadata": {},
     "output_type": "execute_result"
    }
   ],
   "source": [
    "word_counter['稀饭']"
   ]
  },
  {
   "cell_type": "code",
   "execution_count": 107,
   "metadata": {},
   "outputs": [
    {
     "data": {
      "text/plain": [
       "4.540745070425253e-07"
      ]
     },
     "execution_count": 107,
     "metadata": {},
     "output_type": "execute_result"
    }
   ],
   "source": [
    "Pro_w('稀饭')"
   ]
  },
  {
   "cell_type": "markdown",
   "metadata": {},
   "source": [
    "## 如果你想提升这个模型的表现，我们可以做什么？ \n",
    "\n",
    "+ 丰富语料库\n",
    "+ 增加Gram的长度"
   ]
  },
  {
   "cell_type": "markdown",
   "metadata": {},
   "source": [
    "## 贝叶斯概率计算"
   ]
  },
  {
   "cell_type": "markdown",
   "metadata": {},
   "source": [
    "$$ features = <x_1, x_2, ... x_n> $$ "
   ]
  },
  {
   "cell_type": "markdown",
   "metadata": {},
   "source": [
    "$$ Pro(c_1 | x_1 x_2 .. x_n), Pro(c_2 | x_1 x_2 .. x_n) $$"
   ]
  },
  {
   "cell_type": "code",
   "execution_count": 113,
   "metadata": {},
   "outputs": [],
   "source": [
    "from tqdm import tqdm_notebook"
   ]
  },
  {
   "cell_type": "code",
   "execution_count": 114,
   "metadata": {},
   "outputs": [],
   "source": [
    "import time"
   ]
  },
  {
   "cell_type": "code",
   "execution_count": 115,
   "metadata": {},
   "outputs": [
    {
     "data": {
      "application/vnd.jupyter.widget-view+json": {
       "model_id": "0c8b0eaf82db40d988413dffffb19a9f",
       "version_major": 2,
       "version_minor": 0
      },
      "text/plain": [
       "HBox(children=(IntProgress(value=0, max=900), HTML(value='')))"
      ]
     },
     "metadata": {},
     "output_type": "display_data"
    },
    {
     "name": "stdout",
     "output_type": "stream",
     "text": [
      "\n"
     ]
    }
   ],
   "source": [
    "for _ in tqdm_notebook(range(15 * 60)):\n",
    "    time.sleep(1)"
   ]
  },
  {
   "cell_type": "markdown",
   "metadata": {},
   "source": [
    "## Probability"
   ]
  },
  {
   "cell_type": "markdown",
   "metadata": {},
   "source": [
    "## 概率\n",
    "## 微积分\n",
    "## 几何"
   ]
  },
  {
   "cell_type": "markdown",
   "metadata": {},
   "source": [
    "## 凸优化"
   ]
  },
  {
   "cell_type": "code",
   "execution_count": 116,
   "metadata": {},
   "outputs": [],
   "source": [
    "import numpy as np"
   ]
  },
  {
   "cell_type": "code",
   "execution_count": 117,
   "metadata": {},
   "outputs": [],
   "source": [
    "label_a = np.random.normal(6, 2, size=(50, 2))\n",
    "label_b = np.random.normal(-6, 2, size=(50, 2))"
   ]
  },
  {
   "cell_type": "code",
   "execution_count": 118,
   "metadata": {},
   "outputs": [],
   "source": [
    "import matplotlib.pyplot as plt"
   ]
  },
  {
   "cell_type": "code",
   "execution_count": 119,
   "metadata": {},
   "outputs": [
    {
     "data": {
      "text/plain": [
       "<matplotlib.collections.PathCollection at 0x7fb329435780>"
      ]
     },
     "execution_count": 119,
     "metadata": {},
     "output_type": "execute_result"
    },
    {
     "data": {
      "image/png": "[encoded data removed]",
      "text/plain": [
       "<Figure size 432x288 with 1 Axes>"
      ]
     },
     "metadata": {
      "needs_background": "light"
     },
     "output_type": "display_data"
    }
   ],
   "source": [
    "plt.scatter(*zip(*label_a))\n",
    "plt.scatter(*zip(*label_b))"
   ]
  },
  {
   "cell_type": "code",
   "execution_count": 120,
   "metadata": {},
   "outputs": [],
   "source": [
    "label_a_x = label_a[:, 0]"
   ]
  },
  {
   "cell_type": "code",
   "execution_count": 122,
   "metadata": {},
   "outputs": [],
   "source": [
    "label_b_x = label_b[:, 0]"
   ]
  },
  {
   "cell_type": "code",
   "execution_count": 123,
   "metadata": {},
   "outputs": [],
   "source": [
    "k_and_b = []"
   ]
  },
  {
   "cell_type": "code",
   "execution_count": 126,
   "metadata": {},
   "outputs": [],
   "source": [
    "def f(x, k, b):\n",
    "    return k * x - b"
   ]
  },
  {
   "cell_type": "code",
   "execution_count": 127,
   "metadata": {},
   "outputs": [
    {
     "name": "stdout",
     "output_type": "stream",
     "text": [
      "find: -2.018182340053433, -0.7150528884447391\n",
      "find: -2.3543885090184236, 2.6344400878313445\n",
      "find: -3.089849927111924, -1.480324010307188\n",
      "find: -1.7265244084629847, 0.15427965047441639\n",
      "find: -4.261434295963036, -2.5388275029231133\n",
      "find: -3.87760209705169, 2.9309555529506017\n",
      "find: -1.6149928600610854, 1.0126830044146011\n",
      "find: -3.2089404431121613, 0.3260697738877134\n",
      "find: -3.759472312849863, 0.6060606763715883\n",
      "find: -3.6741871127132386, 3.095475709057144\n",
      "find: -4.8137422449682745, -1.0403443987864258\n",
      "find: -2.604538363169193, 2.9712242456331293\n",
      "find: -2.3836022491613007, 0.5380734158672542\n",
      "find: -3.3268391356570537, 1.7171699181914555\n",
      "find: -4.615942253645077, -1.7034300713757853\n",
      "find: -4.723309006889113, -0.801116918201342\n",
      "find: -4.015992112009519, -0.514079494600443\n",
      "find: -4.830732868035356, 1.2348830683717607\n",
      "find: -3.9578971627956117, 1.1975356678755054\n"
     ]
    }
   ],
   "source": [
    "for i in range(100):\n",
    "    k, b = (np.random.random(size=(1, 2)) * 10 - 5)[0]\n",
    "    \n",
    "    if np.max(f(label_a_x, k, b)) <= -1 and np.min(f(label_b_x, k, b)) >= 1:\n",
    "        print('find: {}, {}'.format(k, b))\n",
    "        k_and_b.append((k, b))"
   ]
  },
  {
   "cell_type": "code",
   "execution_count": 129,
   "metadata": {},
   "outputs": [
    {
     "data": {
      "image/png": "[encoded data removed]",
      "text/plain": [
       "<Figure size 432x288 with 1 Axes>"
      ]
     },
     "metadata": {
      "needs_background": "light"
     },
     "output_type": "display_data"
    }
   ],
   "source": [
    "plt.scatter(*zip(*label_a))\n",
    "plt.scatter(*zip(*label_b))\n",
    "\n",
    "for k, b in k_and_b:\n",
    "    x = np.concatenate((label_a_x, label_b_x))\n",
    "    plt.plot(x, f(x, k, b))"
   ]
  },
  {
   "cell_type": "code",
   "execution_count": 133,
   "metadata": {},
   "outputs": [
    {
     "data": {
      "text/plain": [
       "[<matplotlib.lines.Line2D at 0x7fb32969ca20>]"
      ]
     },
     "execution_count": 133,
     "metadata": {},
     "output_type": "execute_result"
    },
    {
     "data": {
      "image/png": "[encoded data removed]",
      "text/plain": [
       "<Figure size 432x288 with 1 Axes>"
      ]
     },
     "metadata": {
      "needs_background": "light"
     },
     "output_type": "display_data"
    }
   ],
   "source": [
    "plt.scatter(*zip(*label_a))\n",
    "plt.scatter(*zip(*label_b))\n",
    "\n",
    "k, b = sorted(k_and_b, key=lambda t: abs(t[0]))[0]\n",
    "x = np.concatenate((label_a_x, label_b_x))\n",
    "plt.plot(x, f(x, k, b))"
   ]
  },
  {
   "cell_type": "markdown",
   "metadata": {},
   "source": [
    "## 计算机解决问题的时候： \n",
    "\n",
    "\n",
    "1. 概率问题\n",
    "2. 微积分\n",
    "3. 几何 "
   ]
  },
  {
   "cell_type": "code",
   "execution_count": null,
   "metadata": {},
   "outputs": [],
   "source": []
  }
 ],
 "metadata": {
  "kernelspec": {
   "display_name": "Python 3",
   "language": "python",
   "name": "python3"
  },
  "language_info": {
   "codemirror_mode": {
    "name": "ipython",
    "version": 3
   },
   "file_extension": ".py",
   "mimetype": "text/x-python",
   "name": "python",
   "nbconvert_exporter": "python",
   "pygments_lexer": "ipython3",
   "version": "3.7.3"
  }
 },
 "nbformat": 4,
 "nbformat_minor": 2
}
